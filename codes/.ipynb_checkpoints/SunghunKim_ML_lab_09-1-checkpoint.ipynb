{
 "cells": [
  {
   "cell_type": "markdown",
   "metadata": {},
   "source": [
    "# ML lab 09-1: Neural Net for XOR"
   ]
  },
  {
   "cell_type": "code",
   "execution_count": 1,
   "metadata": {},
   "outputs": [
    {
     "name": "stderr",
     "output_type": "stream",
     "text": [
      "/usr/local/lib/python3.6/dist-packages/tensorflow/python/framework/dtypes.py:516: FutureWarning: Passing (type, 1) or '1type' as a synonym of type is deprecated; in a future version of numpy, it will be understood as (type, (1,)) / '(1,)type'.\n",
      "  _np_qint8 = np.dtype([(\"qint8\", np.int8, 1)])\n",
      "/usr/local/lib/python3.6/dist-packages/tensorflow/python/framework/dtypes.py:517: FutureWarning: Passing (type, 1) or '1type' as a synonym of type is deprecated; in a future version of numpy, it will be understood as (type, (1,)) / '(1,)type'.\n",
      "  _np_quint8 = np.dtype([(\"quint8\", np.uint8, 1)])\n",
      "/usr/local/lib/python3.6/dist-packages/tensorflow/python/framework/dtypes.py:518: FutureWarning: Passing (type, 1) or '1type' as a synonym of type is deprecated; in a future version of numpy, it will be understood as (type, (1,)) / '(1,)type'.\n",
      "  _np_qint16 = np.dtype([(\"qint16\", np.int16, 1)])\n",
      "/usr/local/lib/python3.6/dist-packages/tensorflow/python/framework/dtypes.py:519: FutureWarning: Passing (type, 1) or '1type' as a synonym of type is deprecated; in a future version of numpy, it will be understood as (type, (1,)) / '(1,)type'.\n",
      "  _np_quint16 = np.dtype([(\"quint16\", np.uint16, 1)])\n",
      "/usr/local/lib/python3.6/dist-packages/tensorflow/python/framework/dtypes.py:520: FutureWarning: Passing (type, 1) or '1type' as a synonym of type is deprecated; in a future version of numpy, it will be understood as (type, (1,)) / '(1,)type'.\n",
      "  _np_qint32 = np.dtype([(\"qint32\", np.int32, 1)])\n",
      "/usr/local/lib/python3.6/dist-packages/tensorflow/python/framework/dtypes.py:525: FutureWarning: Passing (type, 1) or '1type' as a synonym of type is deprecated; in a future version of numpy, it will be understood as (type, (1,)) / '(1,)type'.\n",
      "  np_resource = np.dtype([(\"resource\", np.ubyte, 1)])\n",
      "/usr/local/lib/python3.6/dist-packages/tensorboard/compat/tensorflow_stub/dtypes.py:541: FutureWarning: Passing (type, 1) or '1type' as a synonym of type is deprecated; in a future version of numpy, it will be understood as (type, (1,)) / '(1,)type'.\n",
      "  _np_qint8 = np.dtype([(\"qint8\", np.int8, 1)])\n",
      "/usr/local/lib/python3.6/dist-packages/tensorboard/compat/tensorflow_stub/dtypes.py:542: FutureWarning: Passing (type, 1) or '1type' as a synonym of type is deprecated; in a future version of numpy, it will be understood as (type, (1,)) / '(1,)type'.\n",
      "  _np_quint8 = np.dtype([(\"quint8\", np.uint8, 1)])\n",
      "/usr/local/lib/python3.6/dist-packages/tensorboard/compat/tensorflow_stub/dtypes.py:543: FutureWarning: Passing (type, 1) or '1type' as a synonym of type is deprecated; in a future version of numpy, it will be understood as (type, (1,)) / '(1,)type'.\n",
      "  _np_qint16 = np.dtype([(\"qint16\", np.int16, 1)])\n",
      "/usr/local/lib/python3.6/dist-packages/tensorboard/compat/tensorflow_stub/dtypes.py:544: FutureWarning: Passing (type, 1) or '1type' as a synonym of type is deprecated; in a future version of numpy, it will be understood as (type, (1,)) / '(1,)type'.\n",
      "  _np_quint16 = np.dtype([(\"quint16\", np.uint16, 1)])\n",
      "/usr/local/lib/python3.6/dist-packages/tensorboard/compat/tensorflow_stub/dtypes.py:545: FutureWarning: Passing (type, 1) or '1type' as a synonym of type is deprecated; in a future version of numpy, it will be understood as (type, (1,)) / '(1,)type'.\n",
      "  _np_qint32 = np.dtype([(\"qint32\", np.int32, 1)])\n",
      "/usr/local/lib/python3.6/dist-packages/tensorboard/compat/tensorflow_stub/dtypes.py:550: FutureWarning: Passing (type, 1) or '1type' as a synonym of type is deprecated; in a future version of numpy, it will be understood as (type, (1,)) / '(1,)type'.\n",
      "  np_resource = np.dtype([(\"resource\", np.ubyte, 1)])\n"
     ]
    }
   ],
   "source": [
    "import tensorflow as tf\n",
    "import numpy as np"
   ]
  },
  {
   "cell_type": "code",
   "execution_count": 2,
   "metadata": {},
   "outputs": [],
   "source": [
    "tf.set_random_seed(777)  # for reproducibility"
   ]
  },
  {
   "cell_type": "code",
   "execution_count": 3,
   "metadata": {},
   "outputs": [],
   "source": [
    "x_data = np.array([[0, 0], [0, 1], [1, 0], [1, 1]], dtype=np.float32)\n",
    "y_data = np.array([[0], [1], [1], [0]], dtype=np.float32)"
   ]
  },
  {
   "cell_type": "code",
   "execution_count": 4,
   "metadata": {},
   "outputs": [],
   "source": [
    "X = tf.placeholder(tf.float32)\n",
    "Y = tf.placeholder(tf.float32)\n",
    "W = tf.Variable(tf.random_normal([2, 1]), name = 'weight')\n",
    "b = tf.Variable(tf.random_normal([1]), name = 'bias')"
   ]
  },
  {
   "cell_type": "code",
   "execution_count": 5,
   "metadata": {},
   "outputs": [],
   "source": [
    "hypothesis = tf.sigmoid(tf.matmul(X, W) + b)"
   ]
  },
  {
   "cell_type": "code",
   "execution_count": 6,
   "metadata": {},
   "outputs": [],
   "source": [
    "cost = -tf.reduce_mean(Y * tf.log(hypothesis) + (1 - Y) * tf.log(1 - hypothesis))\n",
    "train = tf.train.GradientDescentOptimizer(learning_rate=0.1).minimize(cost)"
   ]
  },
  {
   "cell_type": "code",
   "execution_count": 7,
   "metadata": {},
   "outputs": [],
   "source": [
    "predicted = tf.cast(hypothesis > 0.5, dtype = tf.float32)\n",
    "accuracy = tf.reduce_mean(tf.cast(tf.equal(predicted, Y), dtype = tf.float32))"
   ]
  },
  {
   "cell_type": "code",
   "execution_count": 8,
   "metadata": {},
   "outputs": [
    {
     "name": "stdout",
     "output_type": "stream",
     "text": [
      "0 [0.87597954, array([[0.7863567],\n",
      "       [0.6628261]], dtype=float32)]\n",
      "1000 [0.6931492, array([[0.00566576],\n",
      "       [0.00542594]], dtype=float32)]\n",
      "2000 [0.6931472, array([[0.00010905],\n",
      "       [0.00010859]], dtype=float32)]\n",
      "3000 [0.6931472, array([[2.1303267e-06],\n",
      "       [2.1305227e-06]], dtype=float32)]\n",
      "4000 [0.6931472, array([[1.3207494e-07],\n",
      "       [1.3227094e-07]], dtype=float32)]\n",
      "5000 [0.6931472, array([[1.3207494e-07],\n",
      "       [1.3227094e-07]], dtype=float32)]\n",
      "6000 [0.6931472, array([[1.3207494e-07],\n",
      "       [1.3227094e-07]], dtype=float32)]\n",
      "7000 [0.6931472, array([[1.3207494e-07],\n",
      "       [1.3227094e-07]], dtype=float32)]\n",
      "8000 [0.6931472, array([[1.3207494e-07],\n",
      "       [1.3227094e-07]], dtype=float32)]\n",
      "9000 [0.6931472, array([[1.3207494e-07],\n",
      "       [1.3227094e-07]], dtype=float32)]\n",
      "10000 [0.6931472, array([[1.3207494e-07],\n",
      "       [1.3227094e-07]], dtype=float32)]\n",
      "\n",
      "Hypothesis: [[0.5]\n",
      " [0.5]\n",
      " [0.5]\n",
      " [0.5]]\n",
      "Correct: [[0.]\n",
      " [0.]\n",
      " [0.]\n",
      " [0.]]\n",
      "Accuracy: 0.5\n"
     ]
    }
   ],
   "source": [
    "with tf.Session() as sess:\n",
    "    sess.run(tf.global_variables_initializer())\n",
    "    \n",
    "    for step in range(10001):\n",
    "        sess.run(train, feed_dict = {X: x_data, Y: y_data})\n",
    "        if step % 1000 == 0:\n",
    "            print(step, sess.run([cost, W], feed_dict = {X: x_data, Y: y_data}))\n",
    "            \n",
    "    h, c, a = sess.run([hypothesis, predicted, accuracy], feed_dict = {X: x_data, Y: y_data})\n",
    "    print(\"\\nHypothesis: {}\\nCorrect: {}\\nAccuracy: {}\".format(h, c, a))"
   ]
  },
  {
   "cell_type": "markdown",
   "metadata": {},
   "source": [
    "### 1 hidden layer"
   ]
  },
  {
   "cell_type": "code",
   "execution_count": 9,
   "metadata": {},
   "outputs": [],
   "source": [
    "tf.set_random_seed(777)  # for reproducibility"
   ]
  },
  {
   "cell_type": "code",
   "execution_count": 10,
   "metadata": {},
   "outputs": [],
   "source": [
    "x_data = np.array([[0, 0], [0, 1], [1, 0], [1, 1]], dtype=np.float32)\n",
    "y_data = np.array([[0], [1], [1], [0]], dtype=np.float32)"
   ]
  },
  {
   "cell_type": "code",
   "execution_count": 11,
   "metadata": {},
   "outputs": [],
   "source": [
    "X = tf.placeholder(tf.float32)\n",
    "Y = tf.placeholder(tf.float32)"
   ]
  },
  {
   "cell_type": "code",
   "execution_count": 12,
   "metadata": {},
   "outputs": [],
   "source": [
    "W1 = tf.Variable(tf.random_normal([2, 2]), name = 'weight1')\n",
    "b1 = tf.Variable(tf.random_normal([2]), name = 'bias1')\n",
    "layer1 = tf.sigmoid(tf.matmul(X, W1) + b1)"
   ]
  },
  {
   "cell_type": "code",
   "execution_count": 13,
   "metadata": {},
   "outputs": [],
   "source": [
    "W2 = tf.Variable(tf.random_normal([2, 1]), name = 'weight2')\n",
    "b2 = tf.Variable(tf.random_normal([1]), name = 'bias2')\n",
    "hypothesis = tf.sigmoid(tf.matmul(layer1, W2) + b2)"
   ]
  },
  {
   "cell_type": "code",
   "execution_count": 14,
   "metadata": {},
   "outputs": [
    {
     "name": "stdout",
     "output_type": "stream",
     "text": [
      "0 [1.6313794, array([[0.80269563],\n",
      "       [0.67861295]], dtype=float32)]\n",
      "1000 [0.66501474, array([[0.80269563],\n",
      "       [0.67861295]], dtype=float32)]\n",
      "2000 [0.57348555, array([[0.80269563],\n",
      "       [0.67861295]], dtype=float32)]\n",
      "3000 [0.52149606, array([[0.80269563],\n",
      "       [0.67861295]], dtype=float32)]\n",
      "4000 [0.5028524, array([[0.80269563],\n",
      "       [0.67861295]], dtype=float32)]\n",
      "5000 [0.4938025, array([[0.80269563],\n",
      "       [0.67861295]], dtype=float32)]\n",
      "6000 [0.4873554, array([[0.80269563],\n",
      "       [0.67861295]], dtype=float32)]\n",
      "7000 [0.47371888, array([[0.80269563],\n",
      "       [0.67861295]], dtype=float32)]\n",
      "8000 [0.36803842, array([[0.80269563],\n",
      "       [0.67861295]], dtype=float32)]\n",
      "9000 [0.13111344, array([[0.80269563],\n",
      "       [0.67861295]], dtype=float32)]\n",
      "10000 [0.061748058, array([[0.80269563],\n",
      "       [0.67861295]], dtype=float32)]\n",
      "\n",
      "Hypothesis: [[0.029778  ]\n",
      " [0.94727546]\n",
      " [0.947456  ]\n",
      " [0.1029303 ]]\n",
      "Correct: [[0.]\n",
      " [1.]\n",
      " [1.]\n",
      " [0.]]\n",
      "Accuracy: 1.0\n"
     ]
    }
   ],
   "source": [
    "cost = -tf.reduce_mean(Y * tf.log(hypothesis) + (1 - Y) * tf.log(1 - hypothesis))\n",
    "train = tf.train.GradientDescentOptimizer(learning_rate=0.1).minimize(cost)\n",
    "predicted = tf.cast(hypothesis > 0.5, dtype = tf.float32)\n",
    "accuracy = tf.reduce_mean(tf.cast(tf.equal(predicted, Y), dtype = tf.float32))\n",
    "with tf.Session() as sess:\n",
    "    sess.run(tf.global_variables_initializer())\n",
    "    \n",
    "    for step in range(10001):\n",
    "        sess.run(train, feed_dict = {X: x_data, Y: y_data})\n",
    "        if step % 1000 == 0:\n",
    "            print(step, sess.run([cost, W], feed_dict = {X: x_data, Y: y_data}))\n",
    "            \n",
    "    h, c, a = sess.run([hypothesis, predicted, accuracy], feed_dict = {X: x_data, Y: y_data})\n",
    "    print(\"\\nHypothesis: {}\\nCorrect: {}\\nAccuracy: {}\".format(h, c, a))"
   ]
  },
  {
   "cell_type": "markdown",
   "metadata": {},
   "source": [
    "### node 늘리기"
   ]
  },
  {
   "cell_type": "code",
   "execution_count": 15,
   "metadata": {},
   "outputs": [
    {
     "name": "stdout",
     "output_type": "stream",
     "text": [
      "0 [2.3915777, array([[0.80269563],\n",
      "       [0.67861295]], dtype=float32)]\n",
      "1000 [0.51663053, array([[0.80269563],\n",
      "       [0.67861295]], dtype=float32)]\n",
      "2000 [0.16821688, array([[0.80269563],\n",
      "       [0.67861295]], dtype=float32)]\n",
      "3000 [0.06190112, array([[0.80269563],\n",
      "       [0.67861295]], dtype=float32)]\n",
      "4000 [0.033427313, array([[0.80269563],\n",
      "       [0.67861295]], dtype=float32)]\n",
      "5000 [0.021911196, array([[0.80269563],\n",
      "       [0.67861295]], dtype=float32)]\n",
      "6000 [0.015965452, array([[0.80269563],\n",
      "       [0.67861295]], dtype=float32)]\n",
      "7000 [0.012415338, array([[0.80269563],\n",
      "       [0.67861295]], dtype=float32)]\n",
      "8000 [0.010085212, array([[0.80269563],\n",
      "       [0.67861295]], dtype=float32)]\n",
      "9000 [0.00845138, array([[0.80269563],\n",
      "       [0.67861295]], dtype=float32)]\n",
      "10000 [0.007248748, array([[0.80269563],\n",
      "       [0.67861295]], dtype=float32)]\n",
      "\n",
      "Hypothesis: [[0.00428616]\n",
      " [0.9930816 ]\n",
      " [0.9924408 ]\n",
      " [0.01011777]]\n",
      "Correct: [[0.]\n",
      " [1.]\n",
      " [1.]\n",
      " [0.]]\n",
      "Accuracy: 1.0\n"
     ]
    }
   ],
   "source": [
    "tf.set_random_seed(777)  # for reproducibility\n",
    "\n",
    "x_data = np.array([[0, 0], [0, 1], [1, 0], [1, 1]], dtype=np.float32)\n",
    "y_data = np.array([[0], [1], [1], [0]], dtype=np.float32)\n",
    "\n",
    "X = tf.placeholder(tf.float32)\n",
    "Y = tf.placeholder(tf.float32)\n",
    "\n",
    "W1 = tf.Variable(tf.random_normal([2, 10]), name = 'weight1')\n",
    "b1 = tf.Variable(tf.random_normal([10]), name = 'bias1')\n",
    "layer1 = tf.sigmoid(tf.matmul(X, W1) + b1)\n",
    "\n",
    "W2 = tf.Variable(tf.random_normal([10, 1]), name = 'weight2')\n",
    "b2 = tf.Variable(tf.random_normal([1]), name = 'bias2')\n",
    "hypothesis = tf.sigmoid(tf.matmul(layer1, W2) + b2)\n",
    "\n",
    "cost = -tf.reduce_mean(Y * tf.log(hypothesis) + (1 - Y) * tf.log(1 - hypothesis))\n",
    "train = tf.train.GradientDescentOptimizer(learning_rate=0.1).minimize(cost)\n",
    "predicted = tf.cast(hypothesis > 0.5, dtype = tf.float32)\n",
    "accuracy = tf.reduce_mean(tf.cast(tf.equal(predicted, Y), dtype = tf.float32))\n",
    "with tf.Session() as sess:\n",
    "    sess.run(tf.global_variables_initializer())\n",
    "    \n",
    "    for step in range(10001):\n",
    "        sess.run(train, feed_dict = {X: x_data, Y: y_data})\n",
    "        if step % 1000 == 0:\n",
    "            print(step, sess.run([cost, W], feed_dict = {X: x_data, Y: y_data}))\n",
    "            \n",
    "    h, c, a = sess.run([hypothesis, predicted, accuracy], feed_dict = {X: x_data, Y: y_data})\n",
    "    print(\"\\nHypothesis: {}\\nCorrect: {}\\nAccuracy: {}\".format(h, c, a))"
   ]
  },
  {
   "cell_type": "markdown",
   "metadata": {},
   "source": [
    "### layer 늘리기"
   ]
  },
  {
   "cell_type": "code",
   "execution_count": 16,
   "metadata": {},
   "outputs": [
    {
     "name": "stdout",
     "output_type": "stream",
     "text": [
      "0 [1.180156, array([[0.80269563],\n",
      "       [0.67861295]], dtype=float32)]\n",
      "1000 [0.6932364, array([[0.80269563],\n",
      "       [0.67861295]], dtype=float32)]\n",
      "2000 [0.69307375, array([[0.80269563],\n",
      "       [0.67861295]], dtype=float32)]\n",
      "3000 [0.6929399, array([[0.80269563],\n",
      "       [0.67861295]], dtype=float32)]\n",
      "4000 [0.69241464, array([[0.80269563],\n",
      "       [0.67861295]], dtype=float32)]\n",
      "5000 [0.6876774, array([[0.80269563],\n",
      "       [0.67861295]], dtype=float32)]\n",
      "6000 [0.62933236, array([[0.80269563],\n",
      "       [0.67861295]], dtype=float32)]\n",
      "7000 [0.410084, array([[0.80269563],\n",
      "       [0.67861295]], dtype=float32)]\n",
      "8000 [0.1412058, array([[0.80269563],\n",
      "       [0.67861295]], dtype=float32)]\n",
      "9000 [0.066303305, array([[0.80269563],\n",
      "       [0.67861295]], dtype=float32)]\n",
      "10000 [0.041430518, array([[0.80269563],\n",
      "       [0.67861295]], dtype=float32)]\n",
      "\n",
      "Hypothesis: [[0.04488301]\n",
      " [0.96266204]\n",
      " [0.96266466]\n",
      " [0.04275664]]\n",
      "Correct: [[0.]\n",
      " [1.]\n",
      " [1.]\n",
      " [0.]]\n",
      "Accuracy: 1.0\n"
     ]
    }
   ],
   "source": [
    "tf.set_random_seed(777)  # for reproducibility\n",
    "\n",
    "x_data = np.array([[0, 0], [0, 1], [1, 0], [1, 1]], dtype=np.float32)\n",
    "y_data = np.array([[0], [1], [1], [0]], dtype=np.float32)\n",
    "\n",
    "X = tf.placeholder(tf.float32)\n",
    "Y = tf.placeholder(tf.float32)\n",
    "\n",
    "W1 = tf.Variable(tf.random_normal([2, 2]), name = 'weight1')\n",
    "b1 = tf.Variable(tf.random_normal([2]), name = 'bias1')\n",
    "layer1 = tf.sigmoid(tf.matmul(X, W1) + b1)\n",
    "\n",
    "W2 = tf.Variable(tf.random_normal([2, 2]), name = 'weight2')\n",
    "b2 = tf.Variable(tf.random_normal([2]), name = 'bias2')\n",
    "layer2 = tf.sigmoid(tf.matmul(X, W2) + b2)\n",
    "\n",
    "W3 = tf.Variable(tf.random_normal([2, 2]), name = 'weight3')\n",
    "b3 = tf.Variable(tf.random_normal([2]), name = 'bias3')\n",
    "layer3 = tf.sigmoid(tf.matmul(X, W3) + b3)\n",
    "\n",
    "W4 = tf.Variable(tf.random_normal([2, 2]), name = 'weight4')\n",
    "b4 = tf.Variable(tf.random_normal([2]), name = 'bias4')\n",
    "layer4 = tf.sigmoid(tf.matmul(X, W4) + b4)\n",
    "\n",
    "W5 = tf.Variable(tf.random_normal([2, 1]), name = 'weight5')\n",
    "b5 = tf.Variable(tf.random_normal([1]), name = 'bias5')\n",
    "hypothesis = tf.sigmoid(tf.matmul(layer4, W5) + b5)\n",
    "\n",
    "cost = -tf.reduce_mean(Y * tf.log(hypothesis) + (1 - Y) * tf.log(1 - hypothesis))\n",
    "train = tf.train.GradientDescentOptimizer(learning_rate=0.1).minimize(cost)\n",
    "predicted = tf.cast(hypothesis > 0.5, dtype = tf.float32)\n",
    "accuracy = tf.reduce_mean(tf.cast(tf.equal(predicted, Y), dtype = tf.float32))\n",
    "with tf.Session() as sess:\n",
    "    sess.run(tf.global_variables_initializer())\n",
    "    \n",
    "    for step in range(10001):\n",
    "        sess.run(train, feed_dict = {X: x_data, Y: y_data})\n",
    "        if step % 1000 == 0:\n",
    "            print(step, sess.run([cost, W], feed_dict = {X: x_data, Y: y_data}))\n",
    "            \n",
    "    h, c, a = sess.run([hypothesis, predicted, accuracy], feed_dict = {X: x_data, Y: y_data})\n",
    "    print(\"\\nHypothesis: {}\\nCorrect: {}\\nAccuracy: {}\".format(h, c, a))"
   ]
  }
 ],
 "metadata": {
  "kernelspec": {
   "display_name": "Python 3",
   "language": "python",
   "name": "python3"
  },
  "language_info": {
   "codemirror_mode": {
    "name": "ipython",
    "version": 3
   },
   "file_extension": ".py",
   "mimetype": "text/x-python",
   "name": "python",
   "nbconvert_exporter": "python",
   "pygments_lexer": "ipython3",
   "version": "3.6.9"
  }
 },
 "nbformat": 4,
 "nbformat_minor": 4
}
